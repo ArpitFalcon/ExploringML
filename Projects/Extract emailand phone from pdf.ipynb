{
 "cells": [
  {
   "cell_type": "code",
   "execution_count": 33,
   "metadata": {},
   "outputs": [
    {
     "name": "stdout",
     "output_type": "stream",
     "text": [
      "Requirement already satisfied: PyPDF2 in c:\\programdata\\anaconda3\\lib\\site-packages (1.26.0)\n"
     ]
    }
   ],
   "source": [
    "# Load the library\n",
    "!pip install PyPDF2\n",
    "import PyPDF2\n",
    "import re"
   ]
  },
  {
   "cell_type": "code",
   "execution_count": 34,
   "metadata": {},
   "outputs": [],
   "source": [
    "# Creating a pdf file \n",
    "pdfFile = open('./data/testing.pdf', 'rb')\n",
    "\n",
    "# Creating a pdf Reader \n",
    "pdfReader = PyPDF2.PdfFileReader(pdfFile)"
   ]
  },
  {
   "cell_type": "code",
   "execution_count": 35,
   "metadata": {},
   "outputs": [
    {
     "name": "stdout",
     "output_type": "stream",
     "text": [
      "1\n"
     ]
    }
   ],
   "source": [
    "# Number of pages\n",
    "print(pdfReader.numPages)"
   ]
  },
  {
   "cell_type": "code",
   "execution_count": 36,
   "metadata": {
    "scrolled": false
   },
   "outputs": [
    {
     "name": "stdout",
     "output_type": "stream",
     "text": [
      "This\n",
      " \n",
      "is a sample pdf file to test my project, 9566779891 \n",
      "\n",
      " \n",
      "this \n",
      "is the first phone number in the\n",
      " \n",
      "file\n",
      ".\n",
      " \n",
      "2335453\n",
      " \n",
      "\n",
      " \n",
      "This\n",
      " \n",
      "is random number which is not of 10 digits thus is not a number, 9570099779 \n",
      "\n",
      " \n",
      "th\n",
      "is \n",
      "is \n",
      "th\n",
      "e second pho\n",
      "ne number in the\n",
      " \n",
      "file. \n",
      "Let\n",
      "\n",
      "s throw a email address \n",
      "\n",
      " \n",
      "arpitfalcon1\n",
      "@gmail.com\n",
      " \n",
      ". Email \n",
      "address second can be included here \n",
      "\n",
      " \n",
      "decode7\n",
      "92000@gmail.com\n",
      ". I\n",
      " \n",
      "guess extracting email \n",
      "addresses\n",
      " \n",
      "may be a problem considering t\n",
      "he\n",
      "ir variety and \n",
      "variable size\n",
      "s too.\n",
      " \n",
      "W\n",
      "e can now throw a \n",
      "phone number \n",
      "\n",
      " \n",
      "9\n",
      "876543210 \n",
      "and one more em\n",
      "ail\n",
      " \n",
      "address of my friend to \n",
      "make him happy \n",
      "\n",
      " \n",
      "samarat3\n",
      "154@gmail.com\n",
      ". \n",
      "Also \n",
      "alphabeta@\n",
      "outloo\n",
      "k.co\n",
      "m\n",
      " \n",
      "so that gmail doesn\n",
      "\n",
      "t feel so superior\n",
      ". \n",
      " \n",
      "\n"
     ]
    }
   ],
   "source": [
    "# Creating the page object\n",
    "pageObj = pdfReader.getPage(0)\n",
    "# Extracting text from page\n",
    "print(pageObj.extractText())"
   ]
  },
  {
   "cell_type": "code",
   "execution_count": 37,
   "metadata": {},
   "outputs": [],
   "source": [
    "text = pageObj.extractText()"
   ]
  },
  {
   "cell_type": "code",
   "execution_count": 38,
   "metadata": {},
   "outputs": [
    {
     "data": {
      "text/plain": [
       "'This\\n \\nis a sample pdf file to test my project, 9566779891 \\n\\n \\nthis \\nis the first phone number in the\\n \\nfile\\n.\\n \\n2335453\\n \\n\\n \\nThis\\n \\nis random number which is not of 10 digits thus is not a number, 9570099779 \\n\\n \\nth\\nis \\nis \\nth\\ne second pho\\nne number in the\\n \\nfile. \\nLet\\n\\ns throw a email address \\n\\n \\narpitfalcon1\\n@gmail.com\\n \\n. Email \\naddress second can be included here \\n\\n \\ndecode7\\n92000@gmail.com\\n. I\\n \\nguess extracting email \\naddresses\\n \\nmay be a problem considering t\\nhe\\nir variety and \\nvariable size\\ns too.\\n \\nW\\ne can now throw a \\nphone number \\n\\n \\n9\\n876543210 \\nand one more em\\nail\\n \\naddress of my friend to \\nmake him happy \\n\\n \\nsamarat3\\n154@gmail.com\\n. \\nAlso \\nalphabeta@\\noutloo\\nk.co\\nm\\n \\nso that gmail doesn\\n\\nt feel so superior\\n. \\n \\n'"
      ]
     },
     "execution_count": 38,
     "metadata": {},
     "output_type": "execute_result"
    }
   ],
   "source": [
    "text"
   ]
  },
  {
   "cell_type": "code",
   "execution_count": 39,
   "metadata": {},
   "outputs": [],
   "source": [
    "# Replacing all the linebreaks\n",
    "cleaned_text = text.replace('\\n', '')"
   ]
  },
  {
   "cell_type": "code",
   "execution_count": 40,
   "metadata": {},
   "outputs": [
    {
     "data": {
      "text/plain": [
       "'This is a sample pdf file to test my project, 9566779891  this is the first phone number in the file. 2335453  This is random number which is not of 10 digits thus is not a number, 9570099779  this is the second phone number in the file. Lets throw a email address  arpitfalcon1@gmail.com . Email address second can be included here  decode792000@gmail.com. I guess extracting email addresses may be a problem considering their variety and variable sizes too. We can now throw a phone number  9876543210 and one more email address of my friend to make him happy  samarat3154@gmail.com. Also alphabeta@outlook.com so that gmail doesnt feel so superior.  '"
      ]
     },
     "execution_count": 40,
     "metadata": {},
     "output_type": "execute_result"
    }
   ],
   "source": [
    "cleaned_text"
   ]
  },
  {
   "cell_type": "code",
   "execution_count": 41,
   "metadata": {},
   "outputs": [],
   "source": [
    "phone = re.findall(r'[\\+\\(]?[1-9][0-9 .\\-\\(\\)]{8,}[0-9]', cleaned_text)"
   ]
  },
  {
   "cell_type": "code",
   "execution_count": 42,
   "metadata": {},
   "outputs": [],
   "source": [
    "email = re.findall(r'[a-zA-Z0-9-_.]+@[a-zA-Z0-9-_.]+', cleaned_text)"
   ]
  },
  {
   "cell_type": "code",
   "execution_count": 43,
   "metadata": {},
   "outputs": [
    {
     "data": {
      "text/plain": [
       "['9566779891', '9570099779', '9876543210']"
      ]
     },
     "execution_count": 43,
     "metadata": {},
     "output_type": "execute_result"
    }
   ],
   "source": [
    "phone"
   ]
  },
  {
   "cell_type": "code",
   "execution_count": 44,
   "metadata": {},
   "outputs": [
    {
     "data": {
      "text/plain": [
       "['arpitfalcon1@gmail.com',\n",
       " 'decode792000@gmail.com.',\n",
       " 'samarat3154@gmail.com.',\n",
       " 'alphabeta@outlook.com']"
      ]
     },
     "execution_count": 44,
     "metadata": {},
     "output_type": "execute_result"
    }
   ],
   "source": [
    "email"
   ]
  }
 ],
 "metadata": {
  "kernelspec": {
   "display_name": "Python 3",
   "language": "python",
   "name": "python3"
  },
  "language_info": {
   "codemirror_mode": {
    "name": "ipython",
    "version": 3
   },
   "file_extension": ".py",
   "mimetype": "text/x-python",
   "name": "python",
   "nbconvert_exporter": "python",
   "pygments_lexer": "ipython3",
   "version": "3.7.3"
  }
 },
 "nbformat": 4,
 "nbformat_minor": 4
}
