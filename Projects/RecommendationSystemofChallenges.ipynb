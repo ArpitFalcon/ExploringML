{
 "cells": [
  {
   "cell_type": "markdown",
   "metadata": {},
   "source": [
    "# Recommend Challenges to Students\n",
    "### To - Do:\n",
    "- Predict 10 challenge recommendations for each user to solve as their next challenge.\n",
    "\n",
    "**Problem Statement**\n",
    "At CodeAsylums, we love helping our users find interesting challenges so we're always improving our challenge recommendation system. In this challenge, you must predict a set of challenges that a CodeAsylums users is likely to solve. We'll provide you with a list of challenges along with information on where they are located on CodeAsylums platform. You'll also have a list of submissions made by a subset of users on these challenges. You must attempt to predict 10 challenge recommendations for each user to solve as their next challenge.\n",
    "\n",
    "Files: \n",
    "- a)\tchallenges.csv: This dataset contains information about the challenges.\n",
    "- b)\tsubmissions.csv: This dataset contains information about the submissions made by users.\n",
    "\n",
    "Submit your answer as submission.csv. First column in each row will be user_id and next 10 columns will be 10 recommendation challenge_id.\n"
   ]
  },
  {
   "cell_type": "code",
   "execution_count": 1,
   "metadata": {},
   "outputs": [],
   "source": [
    "# Importing Libraries\n",
    "import pandas as pd\n",
    "import numpy as np\n",
    "import matplotlib.pyplot as plt\n",
    "import seaborn as sns"
   ]
  },
  {
   "cell_type": "code",
   "execution_count": 2,
   "metadata": {},
   "outputs": [],
   "source": [
    "# Loading the dataset\n",
    "challenges = pd.read_csv('./data/challenge3/challenges.csv')\n",
    "submissions = pd.read_csv('./data/challenge3/submissions.csv')"
   ]
  },
  {
   "cell_type": "markdown",
   "metadata": {},
   "source": [
    "## Summarize the data\n",
    "\n",
    "- Descriptive Statistics \n",
    "- Data Visualization"
   ]
  },
  {
   "cell_type": "code",
   "execution_count": 3,
   "metadata": {},
   "outputs": [
    {
     "name": "stdout",
     "output_type": "stream",
     "text": [
      "(2865, 7)\n"
     ]
    },
    {
     "data": {
      "text/html": [
       "<div>\n",
       "<style scoped>\n",
       "    .dataframe tbody tr th:only-of-type {\n",
       "        vertical-align: middle;\n",
       "    }\n",
       "\n",
       "    .dataframe tbody tr th {\n",
       "        vertical-align: top;\n",
       "    }\n",
       "\n",
       "    .dataframe thead th {\n",
       "        text-align: right;\n",
       "    }\n",
       "</style>\n",
       "<table border=\"1\" class=\"dataframe\">\n",
       "  <thead>\n",
       "    <tr style=\"text-align: right;\">\n",
       "      <th></th>\n",
       "      <th>challenge_id</th>\n",
       "      <th>contest_id</th>\n",
       "      <th>domain</th>\n",
       "      <th>subdomain</th>\n",
       "      <th>difficulty</th>\n",
       "      <th>solved_submission_count</th>\n",
       "      <th>total_submissions_count</th>\n",
       "    </tr>\n",
       "  </thead>\n",
       "  <tbody>\n",
       "    <tr>\n",
       "      <th>0</th>\n",
       "      <td>18e0a2dad5e127d6</td>\n",
       "      <td>c8ff662c97d345d2</td>\n",
       "      <td>Artificial Intelligence</td>\n",
       "      <td>Bot Building</td>\n",
       "      <td>0.978261</td>\n",
       "      <td>319</td>\n",
       "      <td>655</td>\n",
       "    </tr>\n",
       "    <tr>\n",
       "      <th>1</th>\n",
       "      <td>0251520ace81bc57</td>\n",
       "      <td>c8ff662c97d345d2</td>\n",
       "      <td>Algorithms</td>\n",
       "      <td>Strings</td>\n",
       "      <td>0.894473</td>\n",
       "      <td>765</td>\n",
       "      <td>1267</td>\n",
       "    </tr>\n",
       "    <tr>\n",
       "      <th>2</th>\n",
       "      <td>425f241df843cd89</td>\n",
       "      <td>c8ff662c97d345d2</td>\n",
       "      <td>Algorithms</td>\n",
       "      <td>Strings</td>\n",
       "      <td>0.908853</td>\n",
       "      <td>1247</td>\n",
       "      <td>1864</td>\n",
       "    </tr>\n",
       "    <tr>\n",
       "      <th>3</th>\n",
       "      <td>970eca328814a522</td>\n",
       "      <td>c8ff662c97d345d2</td>\n",
       "      <td>Algorithms</td>\n",
       "      <td>Strings</td>\n",
       "      <td>0.902722</td>\n",
       "      <td>453</td>\n",
       "      <td>835</td>\n",
       "    </tr>\n",
       "    <tr>\n",
       "      <th>4</th>\n",
       "      <td>46592c29655cfc5e</td>\n",
       "      <td>c8ff662c97d345d2</td>\n",
       "      <td>Algorithms</td>\n",
       "      <td>Strings</td>\n",
       "      <td>0.900000</td>\n",
       "      <td>312</td>\n",
       "      <td>1363</td>\n",
       "    </tr>\n",
       "  </tbody>\n",
       "</table>\n",
       "</div>"
      ],
      "text/plain": [
       "       challenge_id        contest_id                   domain     subdomain  \\\n",
       "0  18e0a2dad5e127d6  c8ff662c97d345d2  Artificial Intelligence  Bot Building   \n",
       "1  0251520ace81bc57  c8ff662c97d345d2               Algorithms       Strings   \n",
       "2  425f241df843cd89  c8ff662c97d345d2               Algorithms       Strings   \n",
       "3  970eca328814a522  c8ff662c97d345d2               Algorithms       Strings   \n",
       "4  46592c29655cfc5e  c8ff662c97d345d2               Algorithms       Strings   \n",
       "\n",
       "   difficulty  solved_submission_count  total_submissions_count  \n",
       "0    0.978261                      319                      655  \n",
       "1    0.894473                      765                     1267  \n",
       "2    0.908853                     1247                     1864  \n",
       "3    0.902722                      453                      835  \n",
       "4    0.900000                      312                     1363  "
      ]
     },
     "execution_count": 3,
     "metadata": {},
     "output_type": "execute_result"
    }
   ],
   "source": [
    "# Shape and head of challenges offered\n",
    "print(challenges.shape)\n",
    "challenges.head()"
   ]
  },
  {
   "cell_type": "code",
   "execution_count": 4,
   "metadata": {},
   "outputs": [
    {
     "name": "stdout",
     "output_type": "stream",
     "text": [
      "(286064, 6)\n"
     ]
    },
    {
     "data": {
      "text/html": [
       "<div>\n",
       "<style scoped>\n",
       "    .dataframe tbody tr th:only-of-type {\n",
       "        vertical-align: middle;\n",
       "    }\n",
       "\n",
       "    .dataframe tbody tr th {\n",
       "        vertical-align: top;\n",
       "    }\n",
       "\n",
       "    .dataframe thead th {\n",
       "        text-align: right;\n",
       "    }\n",
       "</style>\n",
       "<table border=\"1\" class=\"dataframe\">\n",
       "  <thead>\n",
       "    <tr style=\"text-align: right;\">\n",
       "      <th></th>\n",
       "      <th>hacker_id</th>\n",
       "      <th>contest_id</th>\n",
       "      <th>challenge_id</th>\n",
       "      <th>language</th>\n",
       "      <th>solved</th>\n",
       "      <th>created_at</th>\n",
       "    </tr>\n",
       "  </thead>\n",
       "  <tbody>\n",
       "    <tr>\n",
       "      <th>0</th>\n",
       "      <td>56d47667c6a9242e</td>\n",
       "      <td>c8ff662c97d345d2</td>\n",
       "      <td>6d95afeb4d968b91</td>\n",
       "      <td>java</td>\n",
       "      <td>0</td>\n",
       "      <td>2011-08-07 00:36:53 UTC</td>\n",
       "    </tr>\n",
       "    <tr>\n",
       "      <th>1</th>\n",
       "      <td>56d47667c6a9242e</td>\n",
       "      <td>c8ff662c97d345d2</td>\n",
       "      <td>6d95afeb4d968b91</td>\n",
       "      <td>java</td>\n",
       "      <td>0</td>\n",
       "      <td>2011-08-07 00:38:45 UTC</td>\n",
       "    </tr>\n",
       "    <tr>\n",
       "      <th>2</th>\n",
       "      <td>56d47667c6a9242e</td>\n",
       "      <td>c8ff662c97d345d2</td>\n",
       "      <td>6d95afeb4d968b91</td>\n",
       "      <td>java</td>\n",
       "      <td>0</td>\n",
       "      <td>2011-08-07 00:43:49 UTC</td>\n",
       "    </tr>\n",
       "    <tr>\n",
       "      <th>3</th>\n",
       "      <td>56d47667c6a9242e</td>\n",
       "      <td>c8ff662c97d345d2</td>\n",
       "      <td>6d95afeb4d968b91</td>\n",
       "      <td>java</td>\n",
       "      <td>0</td>\n",
       "      <td>2011-08-07 00:52:34 UTC</td>\n",
       "    </tr>\n",
       "    <tr>\n",
       "      <th>4</th>\n",
       "      <td>56d47667c6a9242e</td>\n",
       "      <td>c8ff662c97d345d2</td>\n",
       "      <td>6d95afeb4d968b91</td>\n",
       "      <td>java</td>\n",
       "      <td>0</td>\n",
       "      <td>2011-08-07 00:56:52 UTC</td>\n",
       "    </tr>\n",
       "  </tbody>\n",
       "</table>\n",
       "</div>"
      ],
      "text/plain": [
       "          hacker_id        contest_id      challenge_id language  solved  \\\n",
       "0  56d47667c6a9242e  c8ff662c97d345d2  6d95afeb4d968b91     java       0   \n",
       "1  56d47667c6a9242e  c8ff662c97d345d2  6d95afeb4d968b91     java       0   \n",
       "2  56d47667c6a9242e  c8ff662c97d345d2  6d95afeb4d968b91     java       0   \n",
       "3  56d47667c6a9242e  c8ff662c97d345d2  6d95afeb4d968b91     java       0   \n",
       "4  56d47667c6a9242e  c8ff662c97d345d2  6d95afeb4d968b91     java       0   \n",
       "\n",
       "                created_at  \n",
       "0  2011-08-07 00:36:53 UTC  \n",
       "1  2011-08-07 00:38:45 UTC  \n",
       "2  2011-08-07 00:43:49 UTC  \n",
       "3  2011-08-07 00:52:34 UTC  \n",
       "4  2011-08-07 00:56:52 UTC  "
      ]
     },
     "execution_count": 4,
     "metadata": {},
     "output_type": "execute_result"
    }
   ],
   "source": [
    "# Shape and head of submission done\n",
    "print(submissions.shape)\n",
    "submissions.head()"
   ]
  },
  {
   "cell_type": "code",
   "execution_count": 20,
   "metadata": {},
   "outputs": [
    {
     "name": "stdout",
     "output_type": "stream",
     "text": [
      "<class 'pandas.core.frame.DataFrame'>\n",
      "RangeIndex: 2865 entries, 0 to 2864\n",
      "Data columns (total 7 columns):\n",
      " #   Column                   Non-Null Count  Dtype  \n",
      "---  ------                   --------------  -----  \n",
      " 0   challenge_id             2865 non-null   object \n",
      " 1   contest_id               2865 non-null   object \n",
      " 2   domain                   1289 non-null   object \n",
      " 3   subdomain                1289 non-null   object \n",
      " 4   difficulty               2865 non-null   float64\n",
      " 5   solved_submission_count  2865 non-null   int64  \n",
      " 6   total_submissions_count  2865 non-null   int64  \n",
      "dtypes: float64(1), int64(2), object(4)\n",
      "memory usage: 156.8+ KB\n"
     ]
    }
   ],
   "source": [
    "# Count and datatypes of columns in Challenges\n",
    "challenges.info()"
   ]
  },
  {
   "cell_type": "code",
   "execution_count": 21,
   "metadata": {},
   "outputs": [
    {
     "name": "stdout",
     "output_type": "stream",
     "text": [
      "<class 'pandas.core.frame.DataFrame'>\n",
      "RangeIndex: 286064 entries, 0 to 286063\n",
      "Data columns (total 6 columns):\n",
      " #   Column        Non-Null Count   Dtype \n",
      "---  ------        --------------   ----- \n",
      " 0   hacker_id     286064 non-null  object\n",
      " 1   contest_id    286064 non-null  object\n",
      " 2   challenge_id  286064 non-null  object\n",
      " 3   language      286064 non-null  object\n",
      " 4   solved        286064 non-null  int64 \n",
      " 5   created_at    286064 non-null  object\n",
      "dtypes: int64(1), object(5)\n",
      "memory usage: 13.1+ MB\n"
     ]
    }
   ],
   "source": [
    "# Count and datatypes of columns in Submissions\n",
    "submissions.info()"
   ]
  },
  {
   "cell_type": "markdown",
   "metadata": {},
   "source": [
    "We can see that there is no missing values in the submissions dataset, but missing values are present in challenges dataset."
   ]
  },
  {
   "cell_type": "code",
   "execution_count": 23,
   "metadata": {},
   "outputs": [
    {
     "data": {
      "text/html": [
       "<div>\n",
       "<style scoped>\n",
       "    .dataframe tbody tr th:only-of-type {\n",
       "        vertical-align: middle;\n",
       "    }\n",
       "\n",
       "    .dataframe tbody tr th {\n",
       "        vertical-align: top;\n",
       "    }\n",
       "\n",
       "    .dataframe thead th {\n",
       "        text-align: right;\n",
       "    }\n",
       "</style>\n",
       "<table border=\"1\" class=\"dataframe\">\n",
       "  <thead>\n",
       "    <tr style=\"text-align: right;\">\n",
       "      <th></th>\n",
       "      <th>difficulty</th>\n",
       "      <th>solved_submission_count</th>\n",
       "      <th>total_submissions_count</th>\n",
       "    </tr>\n",
       "  </thead>\n",
       "  <tbody>\n",
       "    <tr>\n",
       "      <th>count</th>\n",
       "      <td>2865.000000</td>\n",
       "      <td>2865.000000</td>\n",
       "      <td>2865.000000</td>\n",
       "    </tr>\n",
       "    <tr>\n",
       "      <th>mean</th>\n",
       "      <td>0.685220</td>\n",
       "      <td>67.160209</td>\n",
       "      <td>126.469110</td>\n",
       "    </tr>\n",
       "    <tr>\n",
       "      <th>std</th>\n",
       "      <td>0.235269</td>\n",
       "      <td>220.811523</td>\n",
       "      <td>358.007695</td>\n",
       "    </tr>\n",
       "    <tr>\n",
       "      <th>min</th>\n",
       "      <td>0.000000</td>\n",
       "      <td>0.000000</td>\n",
       "      <td>1.000000</td>\n",
       "    </tr>\n",
       "    <tr>\n",
       "      <th>25%</th>\n",
       "      <td>0.500000</td>\n",
       "      <td>2.000000</td>\n",
       "      <td>9.000000</td>\n",
       "    </tr>\n",
       "    <tr>\n",
       "      <th>50%</th>\n",
       "      <td>0.700000</td>\n",
       "      <td>8.000000</td>\n",
       "      <td>31.000000</td>\n",
       "    </tr>\n",
       "    <tr>\n",
       "      <th>75%</th>\n",
       "      <td>0.900000</td>\n",
       "      <td>34.000000</td>\n",
       "      <td>85.000000</td>\n",
       "    </tr>\n",
       "    <tr>\n",
       "      <th>max</th>\n",
       "      <td>1.000000</td>\n",
       "      <td>3769.000000</td>\n",
       "      <td>7000.000000</td>\n",
       "    </tr>\n",
       "  </tbody>\n",
       "</table>\n",
       "</div>"
      ],
      "text/plain": [
       "        difficulty  solved_submission_count  total_submissions_count\n",
       "count  2865.000000              2865.000000              2865.000000\n",
       "mean      0.685220                67.160209               126.469110\n",
       "std       0.235269               220.811523               358.007695\n",
       "min       0.000000                 0.000000                 1.000000\n",
       "25%       0.500000                 2.000000                 9.000000\n",
       "50%       0.700000                 8.000000                31.000000\n",
       "75%       0.900000                34.000000                85.000000\n",
       "max       1.000000              3769.000000              7000.000000"
      ]
     },
     "execution_count": 23,
     "metadata": {},
     "output_type": "execute_result"
    }
   ],
   "source": [
    "# High overview of the contests\n",
    "challenges.describe()"
   ]
  },
  {
   "cell_type": "markdown",
   "metadata": {},
   "source": [
    "#### Visualize the Challenges dataset"
   ]
  },
  {
   "cell_type": "code",
   "execution_count": 28,
   "metadata": {},
   "outputs": [
    {
     "data": {
      "text/plain": [
       "<matplotlib.axes._subplots.AxesSubplot at 0x20d43ef4e80>"
      ]
     },
     "execution_count": 28,
     "metadata": {},
     "output_type": "execute_result"
    },
    {
     "data": {
      "image/png": "[encoded data removed]",
      "text/plain": [
       "<Figure size 432x288 with 1 Axes>"
      ]
     },
     "metadata": {
      "needs_background": "light"
     },
     "output_type": "display_data"
    }
   ],
   "source": [
    "# Histogram of Difficulty Level of challenges\n",
    "sns.distplot(challenges.difficulty, bins = 5)"
   ]
  },
  {
   "cell_type": "markdown",
   "metadata": {},
   "source": [
    "We can categorize the difficulty level of challenges according to the difficulty "
   ]
  },
  {
   "cell_type": "code",
   "execution_count": 32,
   "metadata": {},
   "outputs": [
    {
     "data": {
      "text/plain": [
       "<matplotlib.axes._subplots.AxesSubplot at 0x20d455b5dd8>"
      ]
     },
     "execution_count": 32,
     "metadata": {},
     "output_type": "execute_result"
    },
    {
     "data": {
      "image/png": "[encoded data removed]",
      "text/plain": [
       "<Figure size 432x288 with 1 Axes>"
      ]
     },
     "metadata": {
      "needs_background": "light"
     },
     "output_type": "display_data"
    }
   ],
   "source": [
    "# Histogram of difficulty of contests\n",
    "sns.distplot(challenges.groupby('contest_id')['difficulty'].mean())"
   ]
  },
  {
   "cell_type": "markdown",
   "metadata": {},
   "source": [
    "Majority of the contests have challenges with difficulty between 0.5 and 0.8 "
   ]
  },
  {
   "cell_type": "code",
   "execution_count": 48,
   "metadata": {},
   "outputs": [
    {
     "data": {
      "image/png": "[encoded data removed]",
      "text/plain": [
       "<Figure size 432x288 with 1 Axes>"
      ]
     },
     "metadata": {
      "needs_background": "light"
     },
     "output_type": "display_data"
    }
   ],
   "source": [
    "# Distribution of challenges\n",
    "sns.countplot(y=challenges.domain)\n",
    "plt.show()"
   ]
  },
  {
   "cell_type": "markdown",
   "metadata": {},
   "source": [
    "#### Visualize the Submissions dataset"
   ]
  },
  {
   "cell_type": "code",
   "execution_count": 49,
   "metadata": {},
   "outputs": [
    {
     "data": {
      "text/html": [
       "<div>\n",
       "<style scoped>\n",
       "    .dataframe tbody tr th:only-of-type {\n",
       "        vertical-align: middle;\n",
       "    }\n",
       "\n",
       "    .dataframe tbody tr th {\n",
       "        vertical-align: top;\n",
       "    }\n",
       "\n",
       "    .dataframe thead th {\n",
       "        text-align: right;\n",
       "    }\n",
       "</style>\n",
       "<table border=\"1\" class=\"dataframe\">\n",
       "  <thead>\n",
       "    <tr style=\"text-align: right;\">\n",
       "      <th></th>\n",
       "      <th>hacker_id</th>\n",
       "      <th>contest_id</th>\n",
       "      <th>challenge_id</th>\n",
       "      <th>language</th>\n",
       "      <th>solved</th>\n",
       "      <th>created_at</th>\n",
       "    </tr>\n",
       "  </thead>\n",
       "  <tbody>\n",
       "    <tr>\n",
       "      <th>0</th>\n",
       "      <td>56d47667c6a9242e</td>\n",
       "      <td>c8ff662c97d345d2</td>\n",
       "      <td>6d95afeb4d968b91</td>\n",
       "      <td>java</td>\n",
       "      <td>0</td>\n",
       "      <td>2011-08-07 00:36:53 UTC</td>\n",
       "    </tr>\n",
       "    <tr>\n",
       "      <th>1</th>\n",
       "      <td>56d47667c6a9242e</td>\n",
       "      <td>c8ff662c97d345d2</td>\n",
       "      <td>6d95afeb4d968b91</td>\n",
       "      <td>java</td>\n",
       "      <td>0</td>\n",
       "      <td>2011-08-07 00:38:45 UTC</td>\n",
       "    </tr>\n",
       "    <tr>\n",
       "      <th>2</th>\n",
       "      <td>56d47667c6a9242e</td>\n",
       "      <td>c8ff662c97d345d2</td>\n",
       "      <td>6d95afeb4d968b91</td>\n",
       "      <td>java</td>\n",
       "      <td>0</td>\n",
       "      <td>2011-08-07 00:43:49 UTC</td>\n",
       "    </tr>\n",
       "    <tr>\n",
       "      <th>3</th>\n",
       "      <td>56d47667c6a9242e</td>\n",
       "      <td>c8ff662c97d345d2</td>\n",
       "      <td>6d95afeb4d968b91</td>\n",
       "      <td>java</td>\n",
       "      <td>0</td>\n",
       "      <td>2011-08-07 00:52:34 UTC</td>\n",
       "    </tr>\n",
       "    <tr>\n",
       "      <th>4</th>\n",
       "      <td>56d47667c6a9242e</td>\n",
       "      <td>c8ff662c97d345d2</td>\n",
       "      <td>6d95afeb4d968b91</td>\n",
       "      <td>java</td>\n",
       "      <td>0</td>\n",
       "      <td>2011-08-07 00:56:52 UTC</td>\n",
       "    </tr>\n",
       "  </tbody>\n",
       "</table>\n",
       "</div>"
      ],
      "text/plain": [
       "          hacker_id        contest_id      challenge_id language  solved  \\\n",
       "0  56d47667c6a9242e  c8ff662c97d345d2  6d95afeb4d968b91     java       0   \n",
       "1  56d47667c6a9242e  c8ff662c97d345d2  6d95afeb4d968b91     java       0   \n",
       "2  56d47667c6a9242e  c8ff662c97d345d2  6d95afeb4d968b91     java       0   \n",
       "3  56d47667c6a9242e  c8ff662c97d345d2  6d95afeb4d968b91     java       0   \n",
       "4  56d47667c6a9242e  c8ff662c97d345d2  6d95afeb4d968b91     java       0   \n",
       "\n",
       "                created_at  \n",
       "0  2011-08-07 00:36:53 UTC  \n",
       "1  2011-08-07 00:38:45 UTC  \n",
       "2  2011-08-07 00:43:49 UTC  \n",
       "3  2011-08-07 00:52:34 UTC  \n",
       "4  2011-08-07 00:56:52 UTC  "
      ]
     },
     "execution_count": 49,
     "metadata": {},
     "output_type": "execute_result"
    }
   ],
   "source": [
    "submissions.head()"
   ]
  },
  {
   "cell_type": "code",
   "execution_count": 80,
   "metadata": {},
   "outputs": [
    {
     "data": {
      "image/png": "[encoded data removed]",
      "text/plain": [
       "<Figure size 360x432 with 1 Axes>"
      ]
     },
     "metadata": {
      "needs_background": "light"
     },
     "output_type": "display_data"
    }
   ],
   "source": [
    "# Languages used by hackers\n",
    "plt.figure(figsize=(5, 6))\n",
    "\n",
    "# Filtering for most commonly used programming languages\n",
    "most_used_lang = submissions.groupby('language')['language'].count()\n",
    "most_used_lang = pd.DataFrame({'language': most_used_lang.index, 'counts': most_used_lang.values})\n",
    "most_used_lang = most_used_lang.loc[most_used_lang.counts > (len(submissions) * 0.005)]\n",
    "\n",
    "sns.barplot(x='counts', y='language', data=most_used_lang)\n",
    "plt.show()"
   ]
  },
  {
   "cell_type": "markdown",
   "metadata": {},
   "source": []
  },
  {
   "cell_type": "code",
   "execution_count": 81,
   "metadata": {},
   "outputs": [
    {
     "data": {
      "text/html": [
       "<div>\n",
       "<style scoped>\n",
       "    .dataframe tbody tr th:only-of-type {\n",
       "        vertical-align: middle;\n",
       "    }\n",
       "\n",
       "    .dataframe tbody tr th {\n",
       "        vertical-align: top;\n",
       "    }\n",
       "\n",
       "    .dataframe thead th {\n",
       "        text-align: right;\n",
       "    }\n",
       "</style>\n",
       "<table border=\"1\" class=\"dataframe\">\n",
       "  <thead>\n",
       "    <tr style=\"text-align: right;\">\n",
       "      <th></th>\n",
       "      <th>hacker_id</th>\n",
       "      <th>contest_id</th>\n",
       "      <th>challenge_id</th>\n",
       "      <th>language</th>\n",
       "      <th>solved</th>\n",
       "      <th>created_at</th>\n",
       "    </tr>\n",
       "  </thead>\n",
       "  <tbody>\n",
       "    <tr>\n",
       "      <th>0</th>\n",
       "      <td>56d47667c6a9242e</td>\n",
       "      <td>c8ff662c97d345d2</td>\n",
       "      <td>6d95afeb4d968b91</td>\n",
       "      <td>java</td>\n",
       "      <td>0</td>\n",
       "      <td>2011-08-07</td>\n",
       "    </tr>\n",
       "    <tr>\n",
       "      <th>1</th>\n",
       "      <td>56d47667c6a9242e</td>\n",
       "      <td>c8ff662c97d345d2</td>\n",
       "      <td>6d95afeb4d968b91</td>\n",
       "      <td>java</td>\n",
       "      <td>0</td>\n",
       "      <td>2011-08-07</td>\n",
       "    </tr>\n",
       "    <tr>\n",
       "      <th>2</th>\n",
       "      <td>56d47667c6a9242e</td>\n",
       "      <td>c8ff662c97d345d2</td>\n",
       "      <td>6d95afeb4d968b91</td>\n",
       "      <td>java</td>\n",
       "      <td>0</td>\n",
       "      <td>2011-08-07</td>\n",
       "    </tr>\n",
       "    <tr>\n",
       "      <th>3</th>\n",
       "      <td>56d47667c6a9242e</td>\n",
       "      <td>c8ff662c97d345d2</td>\n",
       "      <td>6d95afeb4d968b91</td>\n",
       "      <td>java</td>\n",
       "      <td>0</td>\n",
       "      <td>2011-08-07</td>\n",
       "    </tr>\n",
       "    <tr>\n",
       "      <th>4</th>\n",
       "      <td>56d47667c6a9242e</td>\n",
       "      <td>c8ff662c97d345d2</td>\n",
       "      <td>6d95afeb4d968b91</td>\n",
       "      <td>java</td>\n",
       "      <td>0</td>\n",
       "      <td>2011-08-07</td>\n",
       "    </tr>\n",
       "    <tr>\n",
       "      <th>...</th>\n",
       "      <td>...</td>\n",
       "      <td>...</td>\n",
       "      <td>...</td>\n",
       "      <td>...</td>\n",
       "      <td>...</td>\n",
       "      <td>...</td>\n",
       "    </tr>\n",
       "    <tr>\n",
       "      <th>286059</th>\n",
       "      <td>b94e521afecc3d5a</td>\n",
       "      <td>82dd83a49f9f2bea</td>\n",
       "      <td>7352cbd4757acf75</td>\n",
       "      <td>c</td>\n",
       "      <td>0</td>\n",
       "      <td>2016-08-23</td>\n",
       "    </tr>\n",
       "    <tr>\n",
       "      <th>286060</th>\n",
       "      <td>b94e521afecc3d5a</td>\n",
       "      <td>82dd83a49f9f2bea</td>\n",
       "      <td>7352cbd4757acf75</td>\n",
       "      <td>c</td>\n",
       "      <td>0</td>\n",
       "      <td>2016-08-23</td>\n",
       "    </tr>\n",
       "    <tr>\n",
       "      <th>286061</th>\n",
       "      <td>269dcc42b86c924c</td>\n",
       "      <td>82dd83a49f9f2bea</td>\n",
       "      <td>7352cbd4757acf75</td>\n",
       "      <td>java8</td>\n",
       "      <td>0</td>\n",
       "      <td>2016-08-23</td>\n",
       "    </tr>\n",
       "    <tr>\n",
       "      <th>286062</th>\n",
       "      <td>4f1a12882cc2ef62</td>\n",
       "      <td>c8ff662c97d345d2</td>\n",
       "      <td>133172ee60755587</td>\n",
       "      <td>java</td>\n",
       "      <td>1</td>\n",
       "      <td>2016-08-23</td>\n",
       "    </tr>\n",
       "    <tr>\n",
       "      <th>286063</th>\n",
       "      <td>4f1a12882cc2ef62</td>\n",
       "      <td>c8ff662c97d345d2</td>\n",
       "      <td>133172ee60755587</td>\n",
       "      <td>java</td>\n",
       "      <td>1</td>\n",
       "      <td>2016-08-23</td>\n",
       "    </tr>\n",
       "  </tbody>\n",
       "</table>\n",
       "<p>286064 rows × 6 columns</p>\n",
       "</div>"
      ],
      "text/plain": [
       "               hacker_id        contest_id      challenge_id language  solved  \\\n",
       "0       56d47667c6a9242e  c8ff662c97d345d2  6d95afeb4d968b91     java       0   \n",
       "1       56d47667c6a9242e  c8ff662c97d345d2  6d95afeb4d968b91     java       0   \n",
       "2       56d47667c6a9242e  c8ff662c97d345d2  6d95afeb4d968b91     java       0   \n",
       "3       56d47667c6a9242e  c8ff662c97d345d2  6d95afeb4d968b91     java       0   \n",
       "4       56d47667c6a9242e  c8ff662c97d345d2  6d95afeb4d968b91     java       0   \n",
       "...                  ...               ...               ...      ...     ...   \n",
       "286059  b94e521afecc3d5a  82dd83a49f9f2bea  7352cbd4757acf75        c       0   \n",
       "286060  b94e521afecc3d5a  82dd83a49f9f2bea  7352cbd4757acf75        c       0   \n",
       "286061  269dcc42b86c924c  82dd83a49f9f2bea  7352cbd4757acf75    java8       0   \n",
       "286062  4f1a12882cc2ef62  c8ff662c97d345d2  133172ee60755587     java       1   \n",
       "286063  4f1a12882cc2ef62  c8ff662c97d345d2  133172ee60755587     java       1   \n",
       "\n",
       "        created_at  \n",
       "0       2011-08-07  \n",
       "1       2011-08-07  \n",
       "2       2011-08-07  \n",
       "3       2011-08-07  \n",
       "4       2011-08-07  \n",
       "...            ...  \n",
       "286059  2016-08-23  \n",
       "286060  2016-08-23  \n",
       "286061  2016-08-23  \n",
       "286062  2016-08-23  \n",
       "286063  2016-08-23  \n",
       "\n",
       "[286064 rows x 6 columns]"
      ]
     },
     "execution_count": 81,
     "metadata": {},
     "output_type": "execute_result"
    }
   ],
   "source": [
    "submissions.created_at = submissions.created_at.apply(lambda x : x[:10])"
   ]
  },
  {
   "cell_type": "code",
   "execution_count": null,
   "metadata": {},
   "outputs": [],
   "source": []
  },
  {
   "cell_type": "code",
   "execution_count": null,
   "metadata": {},
   "outputs": [],
   "source": []
  },
  {
   "cell_type": "code",
   "execution_count": null,
   "metadata": {},
   "outputs": [],
   "source": []
  },
  {
   "cell_type": "code",
   "execution_count": null,
   "metadata": {},
   "outputs": [],
   "source": []
  }
 ],
 "metadata": {
  "kernelspec": {
   "display_name": "Python 3",
   "language": "python",
   "name": "python3"
  },
  "language_info": {
   "codemirror_mode": {
    "name": "ipython",
    "version": 3
   },
   "file_extension": ".py",
   "mimetype": "text/x-python",
   "name": "python",
   "nbconvert_exporter": "python",
   "pygments_lexer": "ipython3",
   "version": "3.7.3"
  }
 },
 "nbformat": 4,
 "nbformat_minor": 4
}
